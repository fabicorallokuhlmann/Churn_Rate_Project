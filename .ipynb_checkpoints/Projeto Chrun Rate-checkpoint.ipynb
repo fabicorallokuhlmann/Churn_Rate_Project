{
 "cells": [
  {
   "cell_type": "code",
   "execution_count": null,
   "id": "c9feb458",
   "metadata": {},
   "outputs": [],
   "source": [
    "pip install pandas numpy plotly openpyxl"
   ]
  },
  {
   "cell_type": "code",
   "execution_count": null,
   "id": "feba8fce",
   "metadata": {},
   "outputs": [],
   "source": [
    "import pandas\n",
    "tabela = pandas.read_csv(\"cancelamentos.csv\")\n",
    "display(tabela)"
   ]
  },
  {
   "cell_type": "code",
   "execution_count": null,
   "id": "980d9468",
   "metadata": {},
   "outputs": [],
   "source": [
    "tabela = tabela.dropna()\n",
    "display(tabela.info())"
   ]
  },
  {
   "cell_type": "code",
   "execution_count": null,
   "id": "3fc14c24",
   "metadata": {},
   "outputs": [],
   "source": [
    "tabela = tabela.drop(\"CustomerID\", axis = 1)\n",
    "display(tabela)\n",
    "display(tabela.info())"
   ]
  },
  {
   "cell_type": "code",
   "execution_count": null,
   "id": "1b47ea9c",
   "metadata": {},
   "outputs": [],
   "source": [
    "display(tabela[\"cancelou\"].value_counts())\n",
    "display(tabela[\"cancelou\"].value_counts(normalize = True))"
   ]
  },
  {
   "cell_type": "code",
   "execution_count": null,
   "id": "511d8034",
   "metadata": {},
   "outputs": [],
   "source": [
    "display(tabela[\"duracao_contrato\"].value_counts())\n",
    "display(tabela[\"duracao_contrato\"].value_counts(normalize = True))\n",
    "display(tabela[\"duracao_contrato\"].value_counts(normalize = True).map(\"{:.1%}\".format))"
   ]
  },
  {
   "cell_type": "code",
   "execution_count": null,
   "id": "fe26cc01",
   "metadata": {},
   "outputs": [],
   "source": [
    "display(tabela.groupby(\"duracao_contrato\").mean())"
   ]
  },
  {
   "cell_type": "code",
   "execution_count": null,
   "id": "2b33f98b",
   "metadata": {},
   "outputs": [],
   "source": [
    "display(tabela.groupby(\"assinatura\").mean())"
   ]
  },
  {
   "cell_type": "code",
   "execution_count": null,
   "id": "e3d5cb93",
   "metadata": {},
   "outputs": [],
   "source": [
    "tabela = tabela[tabela[\"duracao_contrato\"]!=\"Monthly\"]\n",
    "display(tabela[\"duracao_contrato\"].value_counts())\n",
    "display(tabela[\"duracao_contrato\"].value_counts(normalize = True))\n",
    "display(tabela[\"duracao_contrato\"].value_counts(normalize = True).map(\"{:.1%}\".format))\n",
    "display(tabela[\"cancelou\"].value_counts())\n",
    "display(tabela[\"cancelou\"].value_counts(normalize = True).map(\"{:.1%}\".format))"
   ]
  },
  {
   "cell_type": "code",
   "execution_count": null,
   "id": "42012580",
   "metadata": {},
   "outputs": [],
   "source": [
    "import plotly.express as px"
   ]
  },
  {
   "cell_type": "code",
   "execution_count": null,
   "id": "cf4cb3f7",
   "metadata": {},
   "outputs": [],
   "source": [
    "grafico = px.histogram(tabela, x = \"assinatura\", color = \"cancelou\", text_auto = True)\n",
    "grafico.show()"
   ]
  },
  {
   "cell_type": "code",
   "execution_count": null,
   "id": "8efb9d1b",
   "metadata": {},
   "outputs": [],
   "source": [
    "display(tabela[\"assinatura\"].value_counts())"
   ]
  },
  {
   "cell_type": "code",
   "execution_count": null,
   "id": "3c5c795c",
   "metadata": {},
   "outputs": [],
   "source": [
    "coluna = \"ligacoes_callcenter\"\n",
    "grafico = px.histogram(tabela, x = coluna, color = \"cancelou\", text_auto = True)\n",
    "grafico.show()"
   ]
  },
  {
   "cell_type": "code",
   "execution_count": null,
   "id": "9ccd7407",
   "metadata": {},
   "outputs": [],
   "source": [
    "for coluna in tabela.columns: \n",
    "    grafico = px.histogram(tabela, x = coluna, color = \"cancelou\", text_auto = True)\n",
    "    grafico.show()"
   ]
  },
  {
   "cell_type": "code",
   "execution_count": null,
   "id": "534c18e6",
   "metadata": {},
   "outputs": [],
   "source": [
    "#Insights\n",
    "# Acompanhamento do cliente\n",
    "    #Cancelamentos evidentes em:\n",
    "    # assinatura mensal\n",
    "    # ligações ao callcenter > 5\n",
    "    # dias de atraso > 20\n",
    "    \n",
    "# Sugestões: retirar opção de assinatura mensal, entrar em contato com o cliente antes de chegar a 20 dias de atraso \n",
    "# buscando uma negociação e oferecer desconto ao cliente que ligar 3/4 vezes ao callcenter    "
   ]
  },
  {
   "cell_type": "code",
   "execution_count": null,
   "id": "095da6f5",
   "metadata": {},
   "outputs": [],
   "source": [
    "tabela = tabela[tabela[\"ligacoes_callcenter\"]<5]\n",
    "tabela = tabela[tabela[\"dias_atraso\"]<=20]\n",
    "display(tabela)\n",
    "display(tabela[\"cancelou\"].value_counts())\n",
    "display(tabela[\"cancelou\"].value_counts(normalize=True).map(\"{:.1%}\".format))"
   ]
  }
 ],
 "metadata": {
  "kernelspec": {
   "display_name": "Python 3 (ipykernel)",
   "language": "python",
   "name": "python3"
  },
  "language_info": {
   "codemirror_mode": {
    "name": "ipython",
    "version": 3
   },
   "file_extension": ".py",
   "mimetype": "text/x-python",
   "name": "python",
   "nbconvert_exporter": "python",
   "pygments_lexer": "ipython3",
   "version": "3.11.4"
  }
 },
 "nbformat": 4,
 "nbformat_minor": 5
}
